{
 "cells": [
  {
   "cell_type": "markdown",
   "id": "20e2be8a-a9ca-421a-8a69-a9606d7e9c2b",
   "metadata": {},
   "source": [
    "## Automated Web Scraper"
   ]
  },
  {
   "cell_type": "code",
   "execution_count": 2,
   "id": "3b7dd8d4-2aaf-4278-a331-60b32c4434ea",
   "metadata": {},
   "outputs": [],
   "source": [
    "from bs4 import BeautifulSoup\n",
    "import requests"
   ]
  },
  {
   "cell_type": "code",
   "execution_count": 4,
   "id": "da882b19-1947-4956-ac88-ee249dffc8d9",
   "metadata": {},
   "outputs": [],
   "source": [
    "url = r'https://coinmarketcap.com/currencies/bitcoin/'\n",
    "\n",
    "page = requests.get(url)\n",
    "\n",
    "soup = BeautifulSoup(page.text, 'html')"
   ]
  },
  {
   "cell_type": "code",
   "execution_count": 25,
   "id": "055ad2c1-5876-483a-ae8d-de75f6493090",
   "metadata": {},
   "outputs": [
    {
     "name": "stdout",
     "output_type": "stream",
     "text": [
      "Bitcoin\n"
     ]
    }
   ],
   "source": [
    "text = soup.find('span', class_=\"sc-65e7f566-0 lsTl\").text\n",
    "crypto_name = text.replace(\" price\", \"\")\n",
    "print(crypto_name)"
   ]
  },
  {
   "cell_type": "code",
   "execution_count": 19,
   "id": "e98e96d5-5945-4f76-858d-052d147f1a8e",
   "metadata": {},
   "outputs": [
    {
     "data": {
      "text/plain": [
       "'$119,912.51'"
      ]
     },
     "execution_count": 19,
     "metadata": {},
     "output_type": "execute_result"
    }
   ],
   "source": [
    "soup.find('span', class_ = 'sc-65e7f566-0 esyGGG base-text').text"
   ]
  },
  {
   "cell_type": "code",
   "execution_count": 20,
   "id": "d8c54497-54eb-4752-9dba-ccea226ddbfc",
   "metadata": {},
   "outputs": [],
   "source": [
    "crypto_price = soup.find('span', class_ = 'sc-65e7f566-0 esyGGG base-text').text"
   ]
  },
  {
   "cell_type": "code",
   "execution_count": 22,
   "id": "87863a6b-10c9-4c4d-ae24-dfcb4a87c33e",
   "metadata": {},
   "outputs": [],
   "source": [
    "final_price = crypto_price.replace('$','')"
   ]
  },
  {
   "cell_type": "code",
   "execution_count": 23,
   "id": "ae3413be-0cde-46e0-93e2-fd0b82b6da1e",
   "metadata": {},
   "outputs": [
    {
     "data": {
      "text/plain": [
       "'119,912.51'"
      ]
     },
     "execution_count": 23,
     "metadata": {},
     "output_type": "execute_result"
    }
   ],
   "source": [
    "final_price"
   ]
  },
  {
   "cell_type": "code",
   "execution_count": 26,
   "id": "d3277274-256d-4c55-8fda-06f98adf5b00",
   "metadata": {},
   "outputs": [],
   "source": [
    "import pandas as pd"
   ]
  },
  {
   "cell_type": "code",
   "execution_count": 33,
   "id": "5d58021b-b1ed-42b0-a4bf-cf8ed14da062",
   "metadata": {},
   "outputs": [
    {
     "name": "stdout",
     "output_type": "stream",
     "text": [
      "2025-07-14 00:11:50.681225\n"
     ]
    }
   ],
   "source": [
    "from datetime import datetime\n",
    "\n",
    "date_time = datetime.now()\n",
    "\n",
    "print(date_time)"
   ]
  },
  {
   "cell_type": "code",
   "execution_count": 36,
   "id": "eea931d7-38db-4da8-ad47-19a790ed553e",
   "metadata": {},
   "outputs": [
    {
     "data": {
      "text/html": [
       "<div>\n",
       "<style scoped>\n",
       "    .dataframe tbody tr th:only-of-type {\n",
       "        vertical-align: middle;\n",
       "    }\n",
       "\n",
       "    .dataframe tbody tr th {\n",
       "        vertical-align: top;\n",
       "    }\n",
       "\n",
       "    .dataframe thead th {\n",
       "        text-align: right;\n",
       "    }\n",
       "</style>\n",
       "<table border=\"1\" class=\"dataframe\">\n",
       "  <thead>\n",
       "    <tr style=\"text-align: right;\">\n",
       "      <th></th>\n",
       "      <th>Crypto Name</th>\n",
       "      <th>Crypto Price</th>\n",
       "      <th>Time Stamp</th>\n",
       "    </tr>\n",
       "  </thead>\n",
       "  <tbody>\n",
       "    <tr>\n",
       "      <th>0</th>\n",
       "      <td>Bitcoin</td>\n",
       "      <td>119,912.51</td>\n",
       "      <td>2025-07-14 00:11:50.681225</td>\n",
       "    </tr>\n",
       "  </tbody>\n",
       "</table>\n",
       "</div>"
      ],
      "text/plain": [
       "  Crypto Name Crypto Price                 Time Stamp\n",
       "0     Bitcoin   119,912.51 2025-07-14 00:11:50.681225"
      ]
     },
     "execution_count": 36,
     "metadata": {},
     "output_type": "execute_result"
    }
   ],
   "source": [
    "dict = {'Crypto Name': crypto_name, 'Crypto Price': final_price, 'Time Stamp': date_time}\n",
    "\n",
    "df = pd.DataFrame([dict])\n",
    "df"
   ]
  },
  {
   "cell_type": "code",
   "execution_count": 37,
   "id": "44eb90e8-de46-4036-ae37-174aef534fc1",
   "metadata": {},
   "outputs": [],
   "source": [
    "df.to_csv(r'C:\\Users\\larry\\Documents\\Python_Training\\Crypto_Web_Scraper\\Automated_Crypto_Pull.csv')"
   ]
  },
  {
   "cell_type": "code",
   "execution_count": 38,
   "id": "56b68cf5-bea5-4dcc-8870-777a4862154f",
   "metadata": {},
   "outputs": [],
   "source": [
    "import os"
   ]
  },
  {
   "cell_type": "code",
   "execution_count": 43,
   "id": "61c6c425-dd44-4fd5-9571-b6c415f9e7d7",
   "metadata": {},
   "outputs": [],
   "source": [
    "if os.path.exists(r'C:\\Users\\larry\\Documents\\Python_Training\\Crypto_Web_Scraper\\Automated_Crypto_Pull.csv'):\n",
    "    df.to_csv(r'C:\\Users\\larry\\Documents\\Python_Training\\Crypto_Web_Scraper\\Automated_Crypto_Pull.csv', mode = 'a', header= False, index= False)\n",
    "else:\n",
    "    df.to_csv(r'C:\\Users\\larry\\Documents\\Python_Training\\Crypto_Web_Scraper\\Automated_Crypto_Pull.csv')"
   ]
  },
  {
   "cell_type": "markdown",
   "id": "084fedf8-598a-40e2-ae3f-0ba0ac35d09d",
   "metadata": {},
   "source": [
    "## Putting it ALL Together"
   ]
  },
  {
   "cell_type": "code",
   "execution_count": 53,
   "id": "4c866255-0c0a-4054-a48d-93e495573ed1",
   "metadata": {},
   "outputs": [],
   "source": [
    "# Import all Packages\n",
    "from bs4 import BeautifulSoup\n",
    "import requests\n",
    "import pandas as pd\n",
    "from datetime import datetime\n",
    "import os\n",
    "import time"
   ]
  },
  {
   "cell_type": "code",
   "execution_count": 50,
   "id": "8909f1cc-24d6-45c1-8a10-bdbee865bdde",
   "metadata": {},
   "outputs": [],
   "source": [
    "#Create automation function to store code in\n",
    "def automated_crypto_pull():\n",
    "    # Pull html\n",
    "    url = r'https://coinmarketcap.com/currencies/bitcoin/'\n",
    "    \n",
    "    page = requests.get(url)\n",
    "    \n",
    "    soup = BeautifulSoup(page.text, 'html')\n",
    "    \n",
    "    # Get the Crypto Name from html\n",
    "    text = soup.find('span', class_=\"sc-65e7f566-0 lsTl\").text\n",
    "    crypto_name = text.replace(\" price\", \"\")\n",
    "    \n",
    "    # Get the Crypto Price from html\n",
    "    crypto_price = soup.find('span', class_ = 'sc-65e7f566-0 esyGGG base-text').text\n",
    "    final_price = crypto_price.replace('$','')\n",
    "    \n",
    "    # Get the Date Timestamp and create dictionary\n",
    "    date_time = datetime.now()\n",
    "    \n",
    "    dict = {'Crypto Name': crypto_name, 'Crypto Price': final_price, 'Time Stamp': date_time}\n",
    "    \n",
    "    # use Pandas to send our dictionary as a dataframe\n",
    "    df = pd.DataFrame([dict])\n",
    "    \n",
    "    # if our file doesn't exist create it and if it does exist append the new information from the Crypto site to it as a new entry\n",
    "    if os.path.exists(r'C:\\Users\\larry\\Documents\\Python_Training\\Crypto_Web_Scraper\\Automated_Crypto_Pull.csv'):\n",
    "        df.to_csv(r'C:\\Users\\larry\\Documents\\Python_Training\\Crypto_Web_Scraper\\Automated_Crypto_Pull.csv', mode = 'a', header= False, index= False)\n",
    "    else:\n",
    "        df.to_csv(r'C:\\Users\\larry\\Documents\\Python_Training\\Crypto_Web_Scraper\\Automated_Crypto_Pull.csv', index = False)\n",
    "    print(df)"
   ]
  },
  {
   "cell_type": "code",
   "execution_count": 55,
   "id": "5e199b1c-1ba2-4b72-a64e-b3e8cf3e965b",
   "metadata": {},
   "outputs": [
    {
     "name": "stdout",
     "output_type": "stream",
     "text": [
      "  Crypto Name Crypto Price                 Time Stamp\n",
      "0     Bitcoin   121,213.75 2025-07-14 01:06:17.158653\n",
      "  Crypto Name Crypto Price                 Time Stamp\n",
      "0     Bitcoin   121,213.75 2025-07-14 01:06:30.263799\n",
      "  Crypto Name Crypto Price                 Time Stamp\n",
      "0     Bitcoin   121,248.81 2025-07-14 01:06:40.536279\n",
      "  Crypto Name Crypto Price                 Time Stamp\n",
      "0     Bitcoin   121,248.81 2025-07-14 01:06:50.852124\n",
      "  Crypto Name Crypto Price                 Time Stamp\n",
      "0     Bitcoin   121,248.81 2025-07-14 01:07:01.109143\n",
      "  Crypto Name Crypto Price                 Time Stamp\n",
      "0     Bitcoin   121,248.81 2025-07-14 01:07:13.034362\n",
      "  Crypto Name Crypto Price                 Time Stamp\n",
      "0     Bitcoin   121,248.81 2025-07-14 01:07:23.607009\n",
      "  Crypto Name Crypto Price                 Time Stamp\n",
      "0     Bitcoin   121,310.43 2025-07-14 01:07:33.858757\n",
      "  Crypto Name Crypto Price                 Time Stamp\n",
      "0     Bitcoin   121,310.43 2025-07-14 01:07:44.111668\n",
      "  Crypto Name Crypto Price                 Time Stamp\n",
      "0     Bitcoin   121,310.43 2025-07-14 01:07:54.350345\n",
      "  Crypto Name Crypto Price                 Time Stamp\n",
      "0     Bitcoin   121,310.43 2025-07-14 01:08:04.616153\n",
      "  Crypto Name Crypto Price                 Time Stamp\n",
      "0     Bitcoin   121,310.43 2025-07-14 01:08:14.869626\n",
      "  Crypto Name Crypto Price                 Time Stamp\n",
      "0     Bitcoin   121,310.43 2025-07-14 01:08:25.192768\n",
      "  Crypto Name Crypto Price                 Time Stamp\n",
      "0     Bitcoin   121,302.08 2025-07-14 01:08:35.858490\n"
     ]
    },
    {
     "ename": "KeyboardInterrupt",
     "evalue": "",
     "output_type": "error",
     "traceback": [
      "\u001b[1;31m------------------------------------------------------------\u001b[0m",
      "\u001b[1;31mKeyboardInterrupt\u001b[0m          Traceback (most recent call last)",
      "Cell \u001b[1;32mIn[55], line 4\u001b[0m\n\u001b[0;32m      2\u001b[0m \u001b[38;5;28;01mwhile\u001b[39;00m \u001b[38;5;28;01mTrue\u001b[39;00m:\n\u001b[0;32m      3\u001b[0m     automated_crypto_pull()\n\u001b[1;32m----> 4\u001b[0m     \u001b[43mtime\u001b[49m\u001b[38;5;241;43m.\u001b[39;49m\u001b[43msleep\u001b[49m\u001b[43m(\u001b[49m\u001b[38;5;241;43m10\u001b[39;49m\u001b[43m)\u001b[49m\n",
      "\u001b[1;31mKeyboardInterrupt\u001b[0m: "
     ]
    }
   ],
   "source": [
    "# Automate the process above\n",
    "while True:\n",
    "    automated_crypto_pull()\n",
    "    time.sleep(10)"
   ]
  },
  {
   "cell_type": "code",
   "execution_count": null,
   "id": "da023a96-d0a1-4f94-99b0-c6862d94a1cf",
   "metadata": {},
   "outputs": [],
   "source": []
  },
  {
   "cell_type": "code",
   "execution_count": null,
   "id": "70fa8cc5-21fa-4401-a07c-98347af2648b",
   "metadata": {},
   "outputs": [],
   "source": []
  },
  {
   "cell_type": "code",
   "execution_count": null,
   "id": "da9e704c-536b-4bd8-9175-79a1805b8cd1",
   "metadata": {},
   "outputs": [],
   "source": []
  },
  {
   "cell_type": "code",
   "execution_count": null,
   "id": "86c6b1df-c3af-430b-bb5a-29daf24e7eb5",
   "metadata": {},
   "outputs": [],
   "source": []
  }
 ],
 "metadata": {
  "kernelspec": {
   "display_name": "Python 3 (ipykernel)",
   "language": "python",
   "name": "python3"
  },
  "language_info": {
   "codemirror_mode": {
    "name": "ipython",
    "version": 3
   },
   "file_extension": ".py",
   "mimetype": "text/x-python",
   "name": "python",
   "nbconvert_exporter": "python",
   "pygments_lexer": "ipython3",
   "version": "3.13.5"
  }
 },
 "nbformat": 4,
 "nbformat_minor": 5
}
